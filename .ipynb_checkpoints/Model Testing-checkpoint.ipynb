{
 "cells": [
  {
   "cell_type": "code",
   "execution_count": 3,
   "id": "933c2a4b",
   "metadata": {},
   "outputs": [],
   "source": [
    "from joblib import dump, load\n",
    "import numpy as np\n",
    "model = load('Bravo.joblib')"
   ]
  },
  {
   "cell_type": "code",
   "execution_count": 16,
   "id": "53511c42",
   "metadata": {},
   "outputs": [
    {
     "data": {
      "text/plain": [
       "array([22.234])"
      ]
     },
     "execution_count": 16,
     "metadata": {},
     "output_type": "execute_result"
    }
   ],
   "source": [
    "features = np.array([[2.52616749,  34.20165743, -1.26643756,  1.49589937,  6.54685484,\n",
    "         2.06884539, -1.71993701,  22.75534015,  22.89578549, -1.78397068,\n",
    "         35.4651067 , -2.43887066,  0.0883653 ]])\n",
    "model.predict(features)"
   ]
  },
  {
   "cell_type": "code",
   "execution_count": null,
   "id": "d55c239d",
   "metadata": {},
   "outputs": [],
   "source": []
  }
 ],
 "metadata": {
  "kernelspec": {
   "display_name": "Python 3 (ipykernel)",
   "language": "python",
   "name": "python3"
  },
  "language_info": {
   "codemirror_mode": {
    "name": "ipython",
    "version": 3
   },
   "file_extension": ".py",
   "mimetype": "text/x-python",
   "name": "python",
   "nbconvert_exporter": "python",
   "pygments_lexer": "ipython3",
   "version": "3.9.1"
  }
 },
 "nbformat": 4,
 "nbformat_minor": 5
}
