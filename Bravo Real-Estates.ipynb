{
 "cells": [
  {
   "cell_type": "markdown",
   "id": "ba22af40",
   "metadata": {},
   "source": [
    "# Bravo Real-Estate \n"
   ]
  },
  {
   "cell_type": "code",
   "execution_count": 1,
   "id": "a2b4af48",
   "metadata": {},
   "outputs": [],
   "source": [
    "import pandas as pd"
   ]
  },
  {
   "cell_type": "code",
   "execution_count": 2,
   "id": "d05e262a",
   "metadata": {},
   "outputs": [],
   "source": [
    "housing = pd.read_csv(\"data(1).csv\")"
   ]
  },
  {
   "cell_type": "code",
   "execution_count": 3,
   "id": "f9ff8301",
   "metadata": {},
   "outputs": [
    {
     "data": {
      "text/html": [
       "<div>\n",
       "<style scoped>\n",
       "    .dataframe tbody tr th:only-of-type {\n",
       "        vertical-align: middle;\n",
       "    }\n",
       "\n",
       "    .dataframe tbody tr th {\n",
       "        vertical-align: top;\n",
       "    }\n",
       "\n",
       "    .dataframe thead th {\n",
       "        text-align: right;\n",
       "    }\n",
       "</style>\n",
       "<table border=\"1\" class=\"dataframe\">\n",
       "  <thead>\n",
       "    <tr style=\"text-align: right;\">\n",
       "      <th></th>\n",
       "      <th>CRIM</th>\n",
       "      <th>ZN</th>\n",
       "      <th>INDUS</th>\n",
       "      <th>CHAS</th>\n",
       "      <th>NOX</th>\n",
       "      <th>RM</th>\n",
       "      <th>AGE</th>\n",
       "      <th>DIS</th>\n",
       "      <th>RAD</th>\n",
       "      <th>TAX</th>\n",
       "      <th>PTRATIO</th>\n",
       "      <th>B</th>\n",
       "      <th>LSTAT</th>\n",
       "      <th>MEDV</th>\n",
       "    </tr>\n",
       "  </thead>\n",
       "  <tbody>\n",
       "    <tr>\n",
       "      <th>0</th>\n",
       "      <td>0.00632</td>\n",
       "      <td>18.0</td>\n",
       "      <td>2.31</td>\n",
       "      <td>0</td>\n",
       "      <td>0.538</td>\n",
       "      <td>6.575</td>\n",
       "      <td>65.2</td>\n",
       "      <td>4.0900</td>\n",
       "      <td>1</td>\n",
       "      <td>296</td>\n",
       "      <td>15.3</td>\n",
       "      <td>396.90</td>\n",
       "      <td>4.98</td>\n",
       "      <td>24.0</td>\n",
       "    </tr>\n",
       "    <tr>\n",
       "      <th>1</th>\n",
       "      <td>0.02731</td>\n",
       "      <td>0.0</td>\n",
       "      <td>7.07</td>\n",
       "      <td>0</td>\n",
       "      <td>0.469</td>\n",
       "      <td>6.421</td>\n",
       "      <td>78.9</td>\n",
       "      <td>4.9671</td>\n",
       "      <td>2</td>\n",
       "      <td>242</td>\n",
       "      <td>17.8</td>\n",
       "      <td>396.90</td>\n",
       "      <td>9.14</td>\n",
       "      <td>21.6</td>\n",
       "    </tr>\n",
       "    <tr>\n",
       "      <th>2</th>\n",
       "      <td>0.02729</td>\n",
       "      <td>0.0</td>\n",
       "      <td>7.07</td>\n",
       "      <td>0</td>\n",
       "      <td>0.469</td>\n",
       "      <td>7.185</td>\n",
       "      <td>61.1</td>\n",
       "      <td>4.9671</td>\n",
       "      <td>2</td>\n",
       "      <td>242</td>\n",
       "      <td>17.8</td>\n",
       "      <td>392.83</td>\n",
       "      <td>4.03</td>\n",
       "      <td>34.7</td>\n",
       "    </tr>\n",
       "    <tr>\n",
       "      <th>3</th>\n",
       "      <td>0.03237</td>\n",
       "      <td>0.0</td>\n",
       "      <td>2.18</td>\n",
       "      <td>0</td>\n",
       "      <td>0.458</td>\n",
       "      <td>6.998</td>\n",
       "      <td>45.8</td>\n",
       "      <td>6.0622</td>\n",
       "      <td>3</td>\n",
       "      <td>222</td>\n",
       "      <td>18.7</td>\n",
       "      <td>394.63</td>\n",
       "      <td>2.94</td>\n",
       "      <td>33.4</td>\n",
       "    </tr>\n",
       "    <tr>\n",
       "      <th>4</th>\n",
       "      <td>0.06905</td>\n",
       "      <td>0.0</td>\n",
       "      <td>2.18</td>\n",
       "      <td>0</td>\n",
       "      <td>0.458</td>\n",
       "      <td>7.147</td>\n",
       "      <td>54.2</td>\n",
       "      <td>6.0622</td>\n",
       "      <td>3</td>\n",
       "      <td>222</td>\n",
       "      <td>18.7</td>\n",
       "      <td>396.90</td>\n",
       "      <td>5.33</td>\n",
       "      <td>36.2</td>\n",
       "    </tr>\n",
       "  </tbody>\n",
       "</table>\n",
       "</div>"
      ],
      "text/plain": [
       "      CRIM    ZN  INDUS  CHAS    NOX     RM   AGE     DIS  RAD  TAX  PTRATIO  \\\n",
       "0  0.00632  18.0   2.31     0  0.538  6.575  65.2  4.0900    1  296     15.3   \n",
       "1  0.02731   0.0   7.07     0  0.469  6.421  78.9  4.9671    2  242     17.8   \n",
       "2  0.02729   0.0   7.07     0  0.469  7.185  61.1  4.9671    2  242     17.8   \n",
       "3  0.03237   0.0   2.18     0  0.458  6.998  45.8  6.0622    3  222     18.7   \n",
       "4  0.06905   0.0   2.18     0  0.458  7.147  54.2  6.0622    3  222     18.7   \n",
       "\n",
       "        B  LSTAT  MEDV  \n",
       "0  396.90   4.98  24.0  \n",
       "1  396.90   9.14  21.6  \n",
       "2  392.83   4.03  34.7  \n",
       "3  394.63   2.94  33.4  \n",
       "4  396.90   5.33  36.2  "
      ]
     },
     "execution_count": 3,
     "metadata": {},
     "output_type": "execute_result"
    }
   ],
   "source": [
    "housing.head()"
   ]
  },
  {
   "cell_type": "code",
   "execution_count": 4,
   "id": "8c6baa14",
   "metadata": {},
   "outputs": [
    {
     "name": "stdout",
     "output_type": "stream",
     "text": [
      "<class 'pandas.core.frame.DataFrame'>\n",
      "RangeIndex: 506 entries, 0 to 505\n",
      "Data columns (total 14 columns):\n",
      " #   Column   Non-Null Count  Dtype  \n",
      "---  ------   --------------  -----  \n",
      " 0   CRIM     506 non-null    float64\n",
      " 1   ZN       506 non-null    float64\n",
      " 2   INDUS    506 non-null    float64\n",
      " 3   CHAS     506 non-null    int64  \n",
      " 4   NOX      506 non-null    float64\n",
      " 5   RM       506 non-null    float64\n",
      " 6   AGE      506 non-null    float64\n",
      " 7   DIS      506 non-null    float64\n",
      " 8   RAD      506 non-null    int64  \n",
      " 9   TAX      506 non-null    int64  \n",
      " 10  PTRATIO  506 non-null    float64\n",
      " 11  B        506 non-null    float64\n",
      " 12  LSTAT    506 non-null    float64\n",
      " 13  MEDV     506 non-null    float64\n",
      "dtypes: float64(11), int64(3)\n",
      "memory usage: 55.5 KB\n"
     ]
    }
   ],
   "source": [
    "housing.info()"
   ]
  },
  {
   "cell_type": "code",
   "execution_count": 5,
   "id": "776837a2",
   "metadata": {},
   "outputs": [
    {
     "data": {
      "text/plain": [
       "(506, 14)"
      ]
     },
     "execution_count": 5,
     "metadata": {},
     "output_type": "execute_result"
    }
   ],
   "source": [
    "housing.shape"
   ]
  },
  {
   "cell_type": "code",
   "execution_count": 6,
   "id": "d423a75f",
   "metadata": {},
   "outputs": [
    {
     "data": {
      "text/html": [
       "<div>\n",
       "<style scoped>\n",
       "    .dataframe tbody tr th:only-of-type {\n",
       "        vertical-align: middle;\n",
       "    }\n",
       "\n",
       "    .dataframe tbody tr th {\n",
       "        vertical-align: top;\n",
       "    }\n",
       "\n",
       "    .dataframe thead th {\n",
       "        text-align: right;\n",
       "    }\n",
       "</style>\n",
       "<table border=\"1\" class=\"dataframe\">\n",
       "  <thead>\n",
       "    <tr style=\"text-align: right;\">\n",
       "      <th></th>\n",
       "      <th>CRIM</th>\n",
       "      <th>ZN</th>\n",
       "      <th>INDUS</th>\n",
       "      <th>CHAS</th>\n",
       "      <th>NOX</th>\n",
       "      <th>RM</th>\n",
       "      <th>AGE</th>\n",
       "      <th>DIS</th>\n",
       "      <th>RAD</th>\n",
       "      <th>TAX</th>\n",
       "      <th>PTRATIO</th>\n",
       "      <th>B</th>\n",
       "      <th>LSTAT</th>\n",
       "      <th>MEDV</th>\n",
       "    </tr>\n",
       "  </thead>\n",
       "  <tbody>\n",
       "    <tr>\n",
       "      <th>count</th>\n",
       "      <td>506.000000</td>\n",
       "      <td>506.000000</td>\n",
       "      <td>506.000000</td>\n",
       "      <td>506.000000</td>\n",
       "      <td>506.000000</td>\n",
       "      <td>506.000000</td>\n",
       "      <td>506.000000</td>\n",
       "      <td>506.000000</td>\n",
       "      <td>506.000000</td>\n",
       "      <td>506.000000</td>\n",
       "      <td>506.000000</td>\n",
       "      <td>506.000000</td>\n",
       "      <td>506.000000</td>\n",
       "      <td>506.000000</td>\n",
       "    </tr>\n",
       "    <tr>\n",
       "      <th>mean</th>\n",
       "      <td>3.613524</td>\n",
       "      <td>11.363636</td>\n",
       "      <td>11.136779</td>\n",
       "      <td>0.069170</td>\n",
       "      <td>0.554695</td>\n",
       "      <td>6.284634</td>\n",
       "      <td>68.574901</td>\n",
       "      <td>3.795043</td>\n",
       "      <td>9.549407</td>\n",
       "      <td>408.237154</td>\n",
       "      <td>18.455534</td>\n",
       "      <td>356.674032</td>\n",
       "      <td>12.653063</td>\n",
       "      <td>22.532806</td>\n",
       "    </tr>\n",
       "    <tr>\n",
       "      <th>std</th>\n",
       "      <td>8.601545</td>\n",
       "      <td>23.322453</td>\n",
       "      <td>6.860353</td>\n",
       "      <td>0.253994</td>\n",
       "      <td>0.115878</td>\n",
       "      <td>0.702617</td>\n",
       "      <td>28.148861</td>\n",
       "      <td>2.105710</td>\n",
       "      <td>8.707259</td>\n",
       "      <td>168.537116</td>\n",
       "      <td>2.164946</td>\n",
       "      <td>91.294864</td>\n",
       "      <td>7.141062</td>\n",
       "      <td>9.197104</td>\n",
       "    </tr>\n",
       "    <tr>\n",
       "      <th>min</th>\n",
       "      <td>0.006320</td>\n",
       "      <td>0.000000</td>\n",
       "      <td>0.460000</td>\n",
       "      <td>0.000000</td>\n",
       "      <td>0.385000</td>\n",
       "      <td>3.561000</td>\n",
       "      <td>2.900000</td>\n",
       "      <td>1.129600</td>\n",
       "      <td>1.000000</td>\n",
       "      <td>187.000000</td>\n",
       "      <td>12.600000</td>\n",
       "      <td>0.320000</td>\n",
       "      <td>1.730000</td>\n",
       "      <td>5.000000</td>\n",
       "    </tr>\n",
       "    <tr>\n",
       "      <th>25%</th>\n",
       "      <td>0.082045</td>\n",
       "      <td>0.000000</td>\n",
       "      <td>5.190000</td>\n",
       "      <td>0.000000</td>\n",
       "      <td>0.449000</td>\n",
       "      <td>5.885500</td>\n",
       "      <td>45.025000</td>\n",
       "      <td>2.100175</td>\n",
       "      <td>4.000000</td>\n",
       "      <td>279.000000</td>\n",
       "      <td>17.400000</td>\n",
       "      <td>375.377500</td>\n",
       "      <td>6.950000</td>\n",
       "      <td>17.025000</td>\n",
       "    </tr>\n",
       "    <tr>\n",
       "      <th>50%</th>\n",
       "      <td>0.256510</td>\n",
       "      <td>0.000000</td>\n",
       "      <td>9.690000</td>\n",
       "      <td>0.000000</td>\n",
       "      <td>0.538000</td>\n",
       "      <td>6.208500</td>\n",
       "      <td>77.500000</td>\n",
       "      <td>3.207450</td>\n",
       "      <td>5.000000</td>\n",
       "      <td>330.000000</td>\n",
       "      <td>19.050000</td>\n",
       "      <td>391.440000</td>\n",
       "      <td>11.360000</td>\n",
       "      <td>21.200000</td>\n",
       "    </tr>\n",
       "    <tr>\n",
       "      <th>75%</th>\n",
       "      <td>3.677083</td>\n",
       "      <td>12.500000</td>\n",
       "      <td>18.100000</td>\n",
       "      <td>0.000000</td>\n",
       "      <td>0.624000</td>\n",
       "      <td>6.623500</td>\n",
       "      <td>94.075000</td>\n",
       "      <td>5.188425</td>\n",
       "      <td>24.000000</td>\n",
       "      <td>666.000000</td>\n",
       "      <td>20.200000</td>\n",
       "      <td>396.225000</td>\n",
       "      <td>16.955000</td>\n",
       "      <td>25.000000</td>\n",
       "    </tr>\n",
       "    <tr>\n",
       "      <th>max</th>\n",
       "      <td>88.976200</td>\n",
       "      <td>100.000000</td>\n",
       "      <td>27.740000</td>\n",
       "      <td>1.000000</td>\n",
       "      <td>0.871000</td>\n",
       "      <td>8.780000</td>\n",
       "      <td>100.000000</td>\n",
       "      <td>12.126500</td>\n",
       "      <td>24.000000</td>\n",
       "      <td>711.000000</td>\n",
       "      <td>22.000000</td>\n",
       "      <td>396.900000</td>\n",
       "      <td>37.970000</td>\n",
       "      <td>50.000000</td>\n",
       "    </tr>\n",
       "  </tbody>\n",
       "</table>\n",
       "</div>"
      ],
      "text/plain": [
       "             CRIM          ZN       INDUS        CHAS         NOX          RM  \\\n",
       "count  506.000000  506.000000  506.000000  506.000000  506.000000  506.000000   \n",
       "mean     3.613524   11.363636   11.136779    0.069170    0.554695    6.284634   \n",
       "std      8.601545   23.322453    6.860353    0.253994    0.115878    0.702617   \n",
       "min      0.006320    0.000000    0.460000    0.000000    0.385000    3.561000   \n",
       "25%      0.082045    0.000000    5.190000    0.000000    0.449000    5.885500   \n",
       "50%      0.256510    0.000000    9.690000    0.000000    0.538000    6.208500   \n",
       "75%      3.677083   12.500000   18.100000    0.000000    0.624000    6.623500   \n",
       "max     88.976200  100.000000   27.740000    1.000000    0.871000    8.780000   \n",
       "\n",
       "              AGE         DIS         RAD         TAX     PTRATIO           B  \\\n",
       "count  506.000000  506.000000  506.000000  506.000000  506.000000  506.000000   \n",
       "mean    68.574901    3.795043    9.549407  408.237154   18.455534  356.674032   \n",
       "std     28.148861    2.105710    8.707259  168.537116    2.164946   91.294864   \n",
       "min      2.900000    1.129600    1.000000  187.000000   12.600000    0.320000   \n",
       "25%     45.025000    2.100175    4.000000  279.000000   17.400000  375.377500   \n",
       "50%     77.500000    3.207450    5.000000  330.000000   19.050000  391.440000   \n",
       "75%     94.075000    5.188425   24.000000  666.000000   20.200000  396.225000   \n",
       "max    100.000000   12.126500   24.000000  711.000000   22.000000  396.900000   \n",
       "\n",
       "            LSTAT        MEDV  \n",
       "count  506.000000  506.000000  \n",
       "mean    12.653063   22.532806  \n",
       "std      7.141062    9.197104  \n",
       "min      1.730000    5.000000  \n",
       "25%      6.950000   17.025000  \n",
       "50%     11.360000   21.200000  \n",
       "75%     16.955000   25.000000  \n",
       "max     37.970000   50.000000  "
      ]
     },
     "execution_count": 6,
     "metadata": {},
     "output_type": "execute_result"
    }
   ],
   "source": [
    "housing.describe()"
   ]
  },
  {
   "cell_type": "code",
   "execution_count": 7,
   "id": "976a517c",
   "metadata": {},
   "outputs": [],
   "source": [
    "%matplotlib inline"
   ]
  },
  {
   "cell_type": "code",
   "execution_count": 8,
   "id": "4be308ef",
   "metadata": {},
   "outputs": [
    {
     "data": {
      "text/plain": [
       "array([[<AxesSubplot:title={'center':'CRIM'}>,\n",
       "        <AxesSubplot:title={'center':'ZN'}>,\n",
       "        <AxesSubplot:title={'center':'INDUS'}>,\n",
       "        <AxesSubplot:title={'center':'CHAS'}>],\n",
       "       [<AxesSubplot:title={'center':'NOX'}>,\n",
       "        <AxesSubplot:title={'center':'RM'}>,\n",
       "        <AxesSubplot:title={'center':'AGE'}>,\n",
       "        <AxesSubplot:title={'center':'DIS'}>],\n",
       "       [<AxesSubplot:title={'center':'RAD'}>,\n",
       "        <AxesSubplot:title={'center':'TAX'}>,\n",
       "        <AxesSubplot:title={'center':'PTRATIO'}>,\n",
       "        <AxesSubplot:title={'center':'B'}>],\n",
       "       [<AxesSubplot:title={'center':'LSTAT'}>,\n",
       "        <AxesSubplot:title={'center':'MEDV'}>, <AxesSubplot:>,\n",
       "        <AxesSubplot:>]], dtype=object)"
      ]
     },
     "execution_count": 8,
     "metadata": {},
     "output_type": "execute_result"
    },
    {
     "data": {
      "image/png": "[encoded data removed]",
      "text/plain": [
       "<Figure size 1440x1080 with 16 Axes>"
      ]
     },
     "metadata": {
      "needs_background": "light"
     },
     "output_type": "display_data"
    }
   ],
   "source": [
    "# # For plotting histogram\n",
    "import matplotlib.pyplot as plt\n",
    "housing.hist(bins=50, figsize=(20, 15))"
   ]
  },
  {
   "cell_type": "markdown",
   "id": "a7ff568d",
   "metadata": {},
   "source": [
    "# Looking for Correlation"
   ]
  },
  {
   "cell_type": "code",
   "execution_count": 9,
   "id": "61cf042c",
   "metadata": {},
   "outputs": [],
   "source": [
    "correlation = housing.corr()"
   ]
  },
  {
   "cell_type": "code",
   "execution_count": 10,
   "id": "abbff7e3",
   "metadata": {},
   "outputs": [
    {
     "data": {
      "text/plain": [
       "<AxesSubplot:>"
      ]
     },
     "execution_count": 10,
     "metadata": {},
     "output_type": "execute_result"
    },
    {
     "data": {
      "image/png": "[encoded data removed]",
      "text/plain": [
       "<Figure size 720x720 with 2 Axes>"
      ]
     },
     "metadata": {
      "needs_background": "light"
     },
     "output_type": "display_data"
    }
   ],
   "source": [
    "import seaborn as sns\n",
    "# constructing a heatmap to nderstand the correlation\n",
    "plt.figure(figsize=(10,10))\n",
    "sns.heatmap(correlation, cbar=True, square=True, fmt='.1f', annot=True, annot_kws={'size':8}, cmap='Blues')"
   ]
  },
  {
   "cell_type": "code",
   "execution_count": 11,
   "id": "51505a6a",
   "metadata": {},
   "outputs": [],
   "source": [
    "from pandas.plotting import scatter_matrix"
   ]
  },
  {
   "cell_type": "code",
   "execution_count": 12,
   "id": "9330bb17",
   "metadata": {},
   "outputs": [
    {
     "data": {
      "text/plain": [
       "array([[<AxesSubplot:xlabel='MEDV', ylabel='MEDV'>,\n",
       "        <AxesSubplot:xlabel='RM', ylabel='MEDV'>,\n",
       "        <AxesSubplot:xlabel='ZN', ylabel='MEDV'>,\n",
       "        <AxesSubplot:xlabel='LSTAT', ylabel='MEDV'>],\n",
       "       [<AxesSubplot:xlabel='MEDV', ylabel='RM'>,\n",
       "        <AxesSubplot:xlabel='RM', ylabel='RM'>,\n",
       "        <AxesSubplot:xlabel='ZN', ylabel='RM'>,\n",
       "        <AxesSubplot:xlabel='LSTAT', ylabel='RM'>],\n",
       "       [<AxesSubplot:xlabel='MEDV', ylabel='ZN'>,\n",
       "        <AxesSubplot:xlabel='RM', ylabel='ZN'>,\n",
       "        <AxesSubplot:xlabel='ZN', ylabel='ZN'>,\n",
       "        <AxesSubplot:xlabel='LSTAT', ylabel='ZN'>],\n",
       "       [<AxesSubplot:xlabel='MEDV', ylabel='LSTAT'>,\n",
       "        <AxesSubplot:xlabel='RM', ylabel='LSTAT'>,\n",
       "        <AxesSubplot:xlabel='ZN', ylabel='LSTAT'>,\n",
       "        <AxesSubplot:xlabel='LSTAT', ylabel='LSTAT'>]], dtype=object)"
      ]
     },
     "execution_count": 12,
     "metadata": {},
     "output_type": "execute_result"
    },
    {
     "data": {
      "image/png": "[encoded data removed]",
      "text/plain": [
       "<Figure size 864x576 with 16 Axes>"
      ]
     },
     "metadata": {
      "needs_background": "light"
     },
     "output_type": "display_data"
    }
   ],
   "source": [
    "attributes = ['MEDV', 'RM', 'ZN', 'LSTAT'];\n",
    "scatter_matrix(housing[attributes], figsize=(12, 8))"
   ]
  },
  {
   "cell_type": "code",
   "execution_count": 13,
   "id": "56d7b0bb",
   "metadata": {},
   "outputs": [
    {
     "data": {
      "text/plain": [
       "<AxesSubplot:xlabel='RM', ylabel='MEDV'>"
      ]
     },
     "execution_count": 13,
     "metadata": {},
     "output_type": "execute_result"
    },
    {
     "data": {
      "image/png": "[encoded data removed]",
      "text/plain": [
       "<Figure size 432x288 with 1 Axes>"
      ]
     },
     "metadata": {
      "needs_background": "light"
     },
     "output_type": "display_data"
    }
   ],
   "source": [
    "housing.plot(kind='scatter', x='RM', y='MEDV', alpha=0.9)"
   ]
  },
  {
   "cell_type": "markdown",
   "id": "bb29bae2",
   "metadata": {},
   "source": [
    "# Attribute Combinations"
   ]
  },
  {
   "cell_type": "code",
   "execution_count": 14,
   "id": "d38a6d2c",
   "metadata": {},
   "outputs": [],
   "source": [
    "  housing[\"TAXRM\"] = housing['TAX']/housing['RM']"
   ]
  },
  {
   "cell_type": "code",
   "execution_count": 15,
   "id": "33a9ed70",
   "metadata": {},
   "outputs": [
    {
     "data": {
      "text/plain": [
       "0      45.019011\n",
       "1      37.688834\n",
       "2      33.681280\n",
       "3      31.723350\n",
       "4      31.061984\n",
       "         ...    \n",
       "501    41.407553\n",
       "502    44.607843\n",
       "503    39.134174\n",
       "504    40.182514\n",
       "505    45.273632\n",
       "Name: TAXRM, Length: 506, dtype: float64"
      ]
     },
     "execution_count": 15,
     "metadata": {},
     "output_type": "execute_result"
    }
   ],
   "source": [
    "housing['TAXRM']"
   ]
  },
  {
   "cell_type": "code",
   "execution_count": 16,
   "id": "7326ea9f",
   "metadata": {},
   "outputs": [
    {
     "data": {
      "text/plain": [
       "<AxesSubplot:xlabel='TAXRM', ylabel='MEDV'>"
      ]
     },
     "execution_count": 16,
     "metadata": {},
     "output_type": "execute_result"
    },
    {
     "data": {
      "image/png": "[encoded data removed]",
      "text/plain": [
       "<Figure size 432x288 with 1 Axes>"
      ]
     },
     "metadata": {
      "needs_background": "light"
     },
     "output_type": "display_data"
    }
   ],
   "source": [
    "housing.plot(kind='scatter', x='TAXRM', y='MEDV', alpha=0.9)"
   ]
  },
  {
   "cell_type": "markdown",
   "id": "a4b553c8",
   "metadata": {},
   "source": [
    "# Missing attributes"
   ]
  },
  {
   "cell_type": "code",
   "execution_count": 17,
   "id": "f5bb7865",
   "metadata": {},
   "outputs": [
    {
     "data": {
      "text/plain": [
       "CRIM       0\n",
       "ZN         0\n",
       "INDUS      0\n",
       "CHAS       0\n",
       "NOX        0\n",
       "RM         0\n",
       "AGE        0\n",
       "DIS        0\n",
       "RAD        0\n",
       "TAX        0\n",
       "PTRATIO    0\n",
       "B          0\n",
       "LSTAT      0\n",
       "MEDV       0\n",
       "TAXRM      0\n",
       "dtype: int64"
      ]
     },
     "execution_count": 17,
     "metadata": {},
     "output_type": "execute_result"
    }
   ],
   "source": [
    "housing.isnull().sum()"
   ]
  },
  {
   "cell_type": "markdown",
   "id": "1fa9e238",
   "metadata": {},
   "source": [
    "# Train-Test Splitting"
   ]
  },
  {
   "cell_type": "code",
   "execution_count": 18,
   "id": "b4650199",
   "metadata": {},
   "outputs": [],
   "source": [
    "X = housing.drop(['MEDV'], axis=1)\n",
    "Y = housing['MEDV']"
   ]
  },
  {
   "cell_type": "code",
   "execution_count": 19,
   "id": "4aefa01d",
   "metadata": {},
   "outputs": [
    {
     "name": "stdout",
     "output_type": "stream",
     "text": [
      "        CRIM    ZN  INDUS  CHAS    NOX     RM   AGE     DIS  RAD  TAX  \\\n",
      "0    0.00632  18.0   2.31     0  0.538  6.575  65.2  4.0900    1  296   \n",
      "1    0.02731   0.0   7.07     0  0.469  6.421  78.9  4.9671    2  242   \n",
      "2    0.02729   0.0   7.07     0  0.469  7.185  61.1  4.9671    2  242   \n",
      "3    0.03237   0.0   2.18     0  0.458  6.998  45.8  6.0622    3  222   \n",
      "4    0.06905   0.0   2.18     0  0.458  7.147  54.2  6.0622    3  222   \n",
      "..       ...   ...    ...   ...    ...    ...   ...     ...  ...  ...   \n",
      "501  0.06263   0.0  11.93     0  0.573  6.593  69.1  2.4786    1  273   \n",
      "502  0.04527   0.0  11.93     0  0.573  6.120  76.7  2.2875    1  273   \n",
      "503  0.06076   0.0  11.93     0  0.573  6.976  91.0  2.1675    1  273   \n",
      "504  0.10959   0.0  11.93     0  0.573  6.794  89.3  2.3889    1  273   \n",
      "505  0.04741   0.0  11.93     0  0.573  6.030  80.8  2.5050    1  273   \n",
      "\n",
      "     PTRATIO       B  LSTAT      TAXRM  \n",
      "0       15.3  396.90   4.98  45.019011  \n",
      "1       17.8  396.90   9.14  37.688834  \n",
      "2       17.8  392.83   4.03  33.681280  \n",
      "3       18.7  394.63   2.94  31.723350  \n",
      "4       18.7  396.90   5.33  31.061984  \n",
      "..       ...     ...    ...        ...  \n",
      "501     21.0  391.99   9.67  41.407553  \n",
      "502     21.0  396.90   9.08  44.607843  \n",
      "503     21.0  396.90   5.64  39.134174  \n",
      "504     21.0  393.45   6.48  40.182514  \n",
      "505     21.0  396.90   7.88  45.273632  \n",
      "\n",
      "[506 rows x 14 columns]\n",
      "0      24.0\n",
      "1      21.6\n",
      "2      34.7\n",
      "3      33.4\n",
      "4      36.2\n",
      "       ... \n",
      "501    22.4\n",
      "502    20.6\n",
      "503    23.9\n",
      "504    22.0\n",
      "505    11.9\n",
      "Name: MEDV, Length: 506, dtype: float64\n"
     ]
    }
   ],
   "source": [
    "print(X)\n",
    "print(Y)"
   ]
  },
  {
   "cell_type": "code",
   "execution_count": 20,
   "id": "2fb5aaa0",
   "metadata": {},
   "outputs": [],
   "source": [
    "from sklearn.model_selection import train_test_split\n",
    "X_train, X_test, Y_train, Y_test = train_test_split(X, Y, test_size = 0.2, random_state = 42)"
   ]
  },
  {
   "cell_type": "code",
   "execution_count": 21,
   "id": "fa50391e",
   "metadata": {},
   "outputs": [
    {
     "name": "stdout",
     "output_type": "stream",
     "text": [
      "(506, 14) (404, 14) (102, 14)\n"
     ]
    }
   ],
   "source": [
    "print(X.shape, X_train.shape, X_test.shape)"
   ]
  },
  {
   "cell_type": "markdown",
   "id": "4d4e51ee",
   "metadata": {},
   "source": [
    "## Model Training"
   ]
  },
  {
   "cell_type": "code",
   "execution_count": 22,
   "id": "367df09f",
   "metadata": {},
   "outputs": [],
   "source": [
    "from sklearn.linear_model import LinearRegression\n",
    "from sklearn.tree import DecisionTreeRegressor\n",
    "from sklearn.ensemble import RandomForestRegressor\n",
    "# model = LinearRegression();\n",
    "# model = DecisionTreeRegressor();\n",
    "model = RandomForestRegressor();"
   ]
  },
  {
   "cell_type": "code",
   "execution_count": 30,
   "id": "34c81028",
   "metadata": {},
   "outputs": [],
   "source": [
    "# loading the model\n",
    "model = RandomForestRegressor()"
   ]
  },
  {
   "cell_type": "code",
   "execution_count": 31,
   "id": "8225c898",
   "metadata": {},
   "outputs": [
    {
     "data": {
      "text/plain": [
       "RandomForestRegressor()"
      ]
     },
     "execution_count": 31,
     "metadata": {},
     "output_type": "execute_result"
    }
   ],
   "source": [
    "# training the model with X_train\n",
    "model.fit(X_train, Y_train)"
   ]
  },
  {
   "cell_type": "code",
   "execution_count": 32,
   "id": "fbafb390",
   "metadata": {},
   "outputs": [],
   "source": [
    "# accuracy for prediction on training data\n",
    "training_data_prediction = model.predict(X_train)"
   ]
  },
  {
   "cell_type": "code",
   "execution_count": 33,
   "id": "dd171133",
   "metadata": {},
   "outputs": [
    {
     "name": "stdout",
     "output_type": "stream",
     "text": [
      "[12.055 20.166 19.755 13.685 18.556 24.563 20.701 23.382  8.762 23.856\n",
      " 21.872 32.721 31.641 12.267 41.252 14.493 20.985 23.67  18.269 24.219\n",
      "  8.64  19.532 24.936 20.97  23.068 36.33  16.164 45.096 15.996 22.767\n",
      " 16.662 18.392 16.291 17.998 20.876 31.534 28.886 16.065 18.087 23.253\n",
      " 19.842 19.187  7.951 21.091 16.901 15.911 15.021 47.424 14.497 14.062\n",
      " 26.7   20.881 19.613 22.181 17.023 25.007 33.928  6.482 28.625 19.149\n",
      " 21.1   23.118 21.975 22.137 48.363 14.48  16.858 23.921 20.34  19.893\n",
      " 21.04  37.866 21.893 20.096 19.498 28.186 35.588 25.107 12.868 12.702\n",
      " 11.39  16.482 32.146 27.084 13.901 14.097 46.696 21.456 20.2   23.243\n",
      " 18.3   12.41   6.492 31.381 26.353 19.356 15.955 14.038 22.738 17.043\n",
      " 27.284 35.24  22.789 24.198 24.101 49.616 34.046 31.49  23.994 22.428\n",
      " 14.383 41.358 19.66  31.9   25.238 21.354 21.423  9.673 45.831 44.117\n",
      " 31.644  8.968 16.479 20.379 33.91  17.062 41.839 21.147 22.974 12.095\n",
      " 19.86  23.43  29.885 29.064 21.909 28.993 26.071 32.737 23.853 21.57\n",
      " 23.785 10.937 25.263 22.58  17.125  8.853 19.661 24.81  23.285 19.874\n",
      " 22.328 13.477 30.091 26.742 33.66  13.985 15.696 13.688 14.184 10.989\n",
      " 24.542 17.512 10.392 21.614 14.826 24.811 31.888 40.532 30.125 19.823\n",
      " 31.489 43.024 23.554 20.633 23.531 18.329 19.306  7.612 21.397 20.61\n",
      " 28.109 28.448 20.735 22.764 15.013 12.94  36.151 17.796 17.427 22.198\n",
      " 22.035 20.268 21.847 45.052  8.553 19.085 35.1   17.555 19.681 22.893\n",
      " 20.954 14.455 46.086 24.468 21.737 17.274 31.058 36.329 43.441 18.798\n",
      " 22.316 19.772 45.255 12.244 19.305 16.089 22.018  7.643 19.946 13.033\n",
      " 13.745 17.983 21.343 21.463 21.514 23.755 47.794 26.895 22.164 46.352\n",
      "  8.695 24.038 21.484 19.929 19.019 18.14  13.947 11.51  27.763 20.422\n",
      " 28.125 21.319 23.714 12.742 11.328 29.352 27.991 10.136 20.685 23.748\n",
      " 45.739 22.23   8.648 35.36  40.701 21.369 26.354 40.613 15.462 26.654\n",
      " 11.839 20.116 42.864 27.599 24.734 17.353 17.688 14.741 47.87  21.893\n",
      " 33.309 15.359 14.931 14.1   23.197 33.526 22.438 48.937 10.55  14.534\n",
      " 22.659 17.98  17.696 28.255 16.768 23.178 18.535 33.269 27.086 18.612\n",
      " 14.076 35.003 10.961 20.307 30.714 22.572 33.958 12.365 24.901 18.975\n",
      " 25.447 21.445 21.611 28.06  20.372 24.965 23.473 21.303 32.819 22.856\n",
      " 21.18  23.387 48.656 24.472 27.058  8.804 35.003 20.691 29.839 19.656\n",
      " 22.294 11.302 22.107 15.048 15.404 19.658 10.188 27.907 22.638 13.925\n",
      " 14.244 31.225 12.188 21.374 22.399 19.345 20.575 24.65  18.587 35.596\n",
      " 20.367 20.021 17.465 27.036  7.914 38.574 49.765 19.682 21.345 15.317\n",
      " 33.851 19.057 21.383 23.802 19.314 17.107 20.561 17.783 21.786 11.543\n",
      " 34.604 19.706 20.933 30.215 22.439 23.171 15.755 30.805 23.375 30.581\n",
      " 19.288 22.254 19.194 26.473 34.179 15.381 30.053  7.668 23.54  13.896\n",
      " 25.289 48.85  25.146 15.271 19.402 19.399 22.056 32.947 42.327 22.09\n",
      " 15.36  20.147 21.814 17.908 21.566 14.83  14.143 28.741 21.72  19.09\n",
      " 21.313 25.536 12.78  18.712]\n"
     ]
    }
   ],
   "source": [
    "print(training_data_prediction)"
   ]
  },
  {
   "cell_type": "code",
   "execution_count": 34,
   "id": "e76ae4ae",
   "metadata": {},
   "outputs": [
    {
     "name": "stdout",
     "output_type": "stream",
     "text": [
      "R squared error :  0.9787636711082491\n",
      "Mean Absolute Error :  0.8768737623762369\n"
     ]
    }
   ],
   "source": [
    "from sklearn import metrics\n",
    "# R squared error\n",
    "score_1 = metrics.r2_score(Y_train, training_data_prediction)\n",
    "\n",
    "# Mean Absolute Error\n",
    "score_2 = metrics.mean_absolute_error(Y_train, training_data_prediction)\n",
    "\n",
    "print(\"R squared error : \", score_1)\n",
    "print('Mean Absolute Error : ', score_2)"
   ]
  },
  {
   "cell_type": "code",
   "execution_count": 35,
   "id": "95b6358f",
   "metadata": {},
   "outputs": [
    {
     "data": {
      "image/png": "[encoded data removed]",
      "text/plain": [
       "<Figure size 432x288 with 1 Axes>"
      ]
     },
     "metadata": {
      "needs_background": "light"
     },
     "output_type": "display_data"
    }
   ],
   "source": [
    "plt.scatter(Y_train, training_data_prediction)\n",
    "plt.xlabel(\"Actual Prices\")\n",
    "plt.ylabel(\"Predicted Prices\")\n",
    "plt.title(\"Actual Price vs Preicted Price\")\n",
    "plt.show()"
   ]
  },
  {
   "cell_type": "code",
   "execution_count": 9,
   "id": "f54773bb",
   "metadata": {},
   "outputs": [],
   "source": [
    "# import numpy as np\n",
    "# def split_train_test(data, test_ratio):\n",
    "#     np.random.seed(42)\n",
    "#     shuffled = np.random.permutation(len(data))\n",
    "#     print(shuffled)\n",
    "#     test_set_size = int(len(data) * test_ratio)\n",
    "#     test_indices = shuffled[:test_set_size]\n",
    "#     train_indices = shuffled[test_set_size:] \n",
    "#     return data.iloc[train_indices], data.iloc[test_indices]"
   ]
  },
  {
   "cell_type": "code",
   "execution_count": 10,
   "id": "4190f592",
   "metadata": {},
   "outputs": [
    {
     "name": "stdout",
     "output_type": "stream",
     "text": [
      "Rows in train set: 404\n",
      "Rows in test set: 102\n",
      "\n"
     ]
    }
   ],
   "source": [
    "from sklearn.model_selection import train_test_split\n",
    "train_set, test_set  = train_test_split(housing, test_size=0.2, random_state=42)\n",
    "print(f\"Rows in train set: {len(train_set)}\\nRows in test set: {len(test_set)}\\n\")"
   ]
  },
  {
   "cell_type": "code",
   "execution_count": 13,
   "id": "2fc93623",
   "metadata": {},
   "outputs": [],
   "source": [
    "# from sklearn.model_selection import StratifiedShuffleSplit\n",
    "# split = StratifiedShuffleSplit(n_splits=1, test_size=0.2, random_state=42)\n",
    "# for train_index, test_index in split.split(housing, housing['CHAS']):\n",
    "#     strat_train_set = housing.loc[train_index];\n",
    "#     strat_test_set = housing.loc[test_index];\n",
    "    \n",
    "# strat_train_set, strat_test_set = train_test_split(\n",
    "# housing, test_size=0.2, random_state=42, stratify = housing[\"CHAS\"]);"
   ]
  },
  {
   "cell_type": "code",
   "execution_count": 14,
   "id": "b9bcda92",
   "metadata": {},
   "outputs": [
    {
     "data": {
      "text/plain": [
       "0.000    332\n",
       "1.000     29\n",
       "0.693      6\n",
       "0.740      5\n",
       "0.679      5\n",
       "0.614      4\n",
       "0.700      4\n",
       "0.671      4\n",
       "0.597      3\n",
       "0.580      2\n",
       "0.668      2\n",
       "0.718      2\n",
       "0.659      2\n",
       "0.584      2\n",
       "0.713      1\n",
       "0.631      1\n",
       "Name: CHAS, dtype: int64"
      ]
     },
     "execution_count": 14,
     "metadata": {},
     "output_type": "execute_result"
    }
   ],
   "source": [
    " train_set['CHAS'].value_counts()"
   ]
  },
  {
   "cell_type": "code",
   "execution_count": 15,
   "id": "3f691362",
   "metadata": {},
   "outputs": [
    {
     "data": {
      "text/plain": [
       "0.000    85\n",
       "1.000     6\n",
       "0.693     2\n",
       "0.700     2\n",
       "0.671     2\n",
       "0.740     2\n",
       "0.597     2\n",
       "0.679     1\n",
       "Name: CHAS, dtype: int64"
      ]
     },
     "execution_count": 15,
     "metadata": {},
     "output_type": "execute_result"
    }
   ],
   "source": [
    "test_set['CHAS'].value_counts()"
   ]
  },
  {
   "cell_type": "code",
   "execution_count": 16,
   "id": "60a3bba2",
   "metadata": {},
   "outputs": [],
   "source": [
    "housing = train_set.copy()"
   ]
  },
  {
   "cell_type": "code",
   "execution_count": 25,
   "id": "254a9778",
   "metadata": {},
   "outputs": [],
   "source": [
    "housing = train_set.drop(\"MEDV\", axis=1)\n",
    "housing_labels = train_set[\"MEDV\"].copy()"
   ]
  },
  {
   "cell_type": "code",
   "execution_count": 26,
   "id": "8f3e5058",
   "metadata": {},
   "outputs": [],
   "source": [
    "# To get rid of missing attributes, these are some operations that can be performed:\n",
    "#     1. Get rid of missing data points.\n",
    "#     2. Get rid of whole attribute(column).\n",
    "#     3. Set the values to zero, mean or median."
   ]
  },
  {
   "cell_type": "code",
   "execution_count": 27,
   "id": "6b3c5caf",
   "metadata": {},
   "outputs": [],
   "source": [
    "# 1. housing.dropna(subset=['RM'], inplace=True);\n",
    "# 2. housing.drop(\"RM\", axis=1) //drops the RM column from data\n",
    "# 3. median = housing['RM'].median(); // finds the middle/center value of that data\n",
    "#    housing['RM'].fillna(median); // Replaces vacant blocks by median value\n",
    "\n"
   ]
  },
  {
   "cell_type": "code",
   "execution_count": 28,
   "id": "0928ad64",
   "metadata": {},
   "outputs": [],
   "source": [
    "from sklearn.impute import SimpleImputer\n",
    "imputer = SimpleImputer(strategy = \"median\");\n",
    "imputer.fit(housing);"
   ]
  },
  {
   "cell_type": "code",
   "execution_count": 29,
   "id": "b186aa23",
   "metadata": {},
   "outputs": [
    {
     "data": {
      "text/plain": [
       "array([1.49850e-01, 0.00000e+00, 6.91000e+00, 0.00000e+00, 5.38000e-01,\n",
       "       6.36550e+00, 6.52500e+01, 3.84285e+00, 5.00000e+00, 3.07000e+02,\n",
       "       1.86000e+01, 3.90495e+02, 1.02500e+01])"
      ]
     },
     "execution_count": 29,
     "metadata": {},
     "output_type": "execute_result"
    }
   ],
   "source": [
    "imputer.statistics_"
   ]
  },
  {
   "cell_type": "code",
   "execution_count": 30,
   "id": "7faaa7d1",
   "metadata": {},
   "outputs": [],
   "source": [
    "X = imputer.transform(housing)"
   ]
  },
  {
   "cell_type": "code",
   "execution_count": 31,
   "id": "155ce39c",
   "metadata": {},
   "outputs": [],
   "source": [
    "housing_tr = pd.DataFrame(X, columns=housing.columns)"
   ]
  },
  {
   "cell_type": "code",
   "execution_count": 32,
   "id": "0b16a68d",
   "metadata": {},
   "outputs": [
    {
     "data": {
      "text/html": [
       "<div>\n",
       "<style scoped>\n",
       "    .dataframe tbody tr th:only-of-type {\n",
       "        vertical-align: middle;\n",
       "    }\n",
       "\n",
       "    .dataframe tbody tr th {\n",
       "        vertical-align: top;\n",
       "    }\n",
       "\n",
       "    .dataframe thead th {\n",
       "        text-align: right;\n",
       "    }\n",
       "</style>\n",
       "<table border=\"1\" class=\"dataframe\">\n",
       "  <thead>\n",
       "    <tr style=\"text-align: right;\">\n",
       "      <th></th>\n",
       "      <th>CRIM</th>\n",
       "      <th>ZN</th>\n",
       "      <th>INDUS</th>\n",
       "      <th>CHAS</th>\n",
       "      <th>NOX</th>\n",
       "      <th>RM</th>\n",
       "      <th>AGE</th>\n",
       "      <th>DIS</th>\n",
       "      <th>RAD</th>\n",
       "      <th>TAX</th>\n",
       "      <th>PTRATIO</th>\n",
       "      <th>B</th>\n",
       "      <th>LSTAT</th>\n",
       "    </tr>\n",
       "  </thead>\n",
       "  <tbody>\n",
       "    <tr>\n",
       "      <th>count</th>\n",
       "      <td>404.000000</td>\n",
       "      <td>404.000000</td>\n",
       "      <td>404.000000</td>\n",
       "      <td>404.000000</td>\n",
       "      <td>404.000000</td>\n",
       "      <td>404.000000</td>\n",
       "      <td>404.000000</td>\n",
       "      <td>404.000000</td>\n",
       "      <td>404.000000</td>\n",
       "      <td>404.000000</td>\n",
       "      <td>404.000000</td>\n",
       "      <td>404.000000</td>\n",
       "      <td>404.000000</td>\n",
       "    </tr>\n",
       "    <tr>\n",
       "      <th>mean</th>\n",
       "      <td>1.245977</td>\n",
       "      <td>13.495792</td>\n",
       "      <td>9.058564</td>\n",
       "      <td>0.142936</td>\n",
       "      <td>1.104380</td>\n",
       "      <td>15.582238</td>\n",
       "      <td>58.855762</td>\n",
       "      <td>6.177928</td>\n",
       "      <td>77.688119</td>\n",
       "      <td>335.296040</td>\n",
       "      <td>42.919505</td>\n",
       "      <td>331.874332</td>\n",
       "      <td>11.453490</td>\n",
       "    </tr>\n",
       "    <tr>\n",
       "      <th>std</th>\n",
       "      <td>2.370960</td>\n",
       "      <td>22.860138</td>\n",
       "      <td>7.161661</td>\n",
       "      <td>0.315294</td>\n",
       "      <td>1.650988</td>\n",
       "      <td>26.924399</td>\n",
       "      <td>33.039253</td>\n",
       "      <td>6.476213</td>\n",
       "      <td>203.413322</td>\n",
       "      <td>176.845247</td>\n",
       "      <td>88.580420</td>\n",
       "      <td>126.019370</td>\n",
       "      <td>6.192335</td>\n",
       "    </tr>\n",
       "    <tr>\n",
       "      <th>min</th>\n",
       "      <td>0.000000</td>\n",
       "      <td>0.000000</td>\n",
       "      <td>0.000000</td>\n",
       "      <td>0.000000</td>\n",
       "      <td>0.385000</td>\n",
       "      <td>4.903000</td>\n",
       "      <td>1.137000</td>\n",
       "      <td>1.129600</td>\n",
       "      <td>1.000000</td>\n",
       "      <td>20.200000</td>\n",
       "      <td>2.600000</td>\n",
       "      <td>0.320000</td>\n",
       "      <td>1.730000</td>\n",
       "    </tr>\n",
       "    <tr>\n",
       "      <th>25%</th>\n",
       "      <td>0.049405</td>\n",
       "      <td>0.000000</td>\n",
       "      <td>3.432500</td>\n",
       "      <td>0.000000</td>\n",
       "      <td>0.452000</td>\n",
       "      <td>5.965750</td>\n",
       "      <td>31.450000</td>\n",
       "      <td>2.397150</td>\n",
       "      <td>4.000000</td>\n",
       "      <td>254.000000</td>\n",
       "      <td>16.600000</td>\n",
       "      <td>367.257500</td>\n",
       "      <td>6.717500</td>\n",
       "    </tr>\n",
       "    <tr>\n",
       "      <th>50%</th>\n",
       "      <td>0.149850</td>\n",
       "      <td>0.000000</td>\n",
       "      <td>6.910000</td>\n",
       "      <td>0.000000</td>\n",
       "      <td>0.538000</td>\n",
       "      <td>6.365500</td>\n",
       "      <td>65.250000</td>\n",
       "      <td>3.842850</td>\n",
       "      <td>5.000000</td>\n",
       "      <td>307.000000</td>\n",
       "      <td>18.600000</td>\n",
       "      <td>390.495000</td>\n",
       "      <td>10.250000</td>\n",
       "    </tr>\n",
       "    <tr>\n",
       "      <th>75%</th>\n",
       "      <td>0.829080</td>\n",
       "      <td>20.000000</td>\n",
       "      <td>18.100000</td>\n",
       "      <td>0.000000</td>\n",
       "      <td>0.647000</td>\n",
       "      <td>6.986000</td>\n",
       "      <td>89.325000</td>\n",
       "      <td>6.458400</td>\n",
       "      <td>12.000000</td>\n",
       "      <td>403.000000</td>\n",
       "      <td>20.200000</td>\n",
       "      <td>395.452500</td>\n",
       "      <td>14.802500</td>\n",
       "    </tr>\n",
       "    <tr>\n",
       "      <th>max</th>\n",
       "      <td>9.966540</td>\n",
       "      <td>100.000000</td>\n",
       "      <td>27.740000</td>\n",
       "      <td>1.000000</td>\n",
       "      <td>6.968000</td>\n",
       "      <td>100.000000</td>\n",
       "      <td>100.000000</td>\n",
       "      <td>24.000000</td>\n",
       "      <td>666.000000</td>\n",
       "      <td>711.000000</td>\n",
       "      <td>396.900000</td>\n",
       "      <td>396.900000</td>\n",
       "      <td>34.410000</td>\n",
       "    </tr>\n",
       "  </tbody>\n",
       "</table>\n",
       "</div>"
      ],
      "text/plain": [
       "             CRIM          ZN       INDUS        CHAS         NOX          RM  \\\n",
       "count  404.000000  404.000000  404.000000  404.000000  404.000000  404.000000   \n",
       "mean     1.245977   13.495792    9.058564    0.142936    1.104380   15.582238   \n",
       "std      2.370960   22.860138    7.161661    0.315294    1.650988   26.924399   \n",
       "min      0.000000    0.000000    0.000000    0.000000    0.385000    4.903000   \n",
       "25%      0.049405    0.000000    3.432500    0.000000    0.452000    5.965750   \n",
       "50%      0.149850    0.000000    6.910000    0.000000    0.538000    6.365500   \n",
       "75%      0.829080   20.000000   18.100000    0.000000    0.647000    6.986000   \n",
       "max      9.966540  100.000000   27.740000    1.000000    6.968000  100.000000   \n",
       "\n",
       "              AGE         DIS         RAD         TAX     PTRATIO           B  \\\n",
       "count  404.000000  404.000000  404.000000  404.000000  404.000000  404.000000   \n",
       "mean    58.855762    6.177928   77.688119  335.296040   42.919505  331.874332   \n",
       "std     33.039253    6.476213  203.413322  176.845247   88.580420  126.019370   \n",
       "min      1.137000    1.129600    1.000000   20.200000    2.600000    0.320000   \n",
       "25%     31.450000    2.397150    4.000000  254.000000   16.600000  367.257500   \n",
       "50%     65.250000    3.842850    5.000000  307.000000   18.600000  390.495000   \n",
       "75%     89.325000    6.458400   12.000000  403.000000   20.200000  395.452500   \n",
       "max    100.000000   24.000000  666.000000  711.000000  396.900000  396.900000   \n",
       "\n",
       "            LSTAT  \n",
       "count  404.000000  \n",
       "mean    11.453490  \n",
       "std      6.192335  \n",
       "min      1.730000  \n",
       "25%      6.717500  \n",
       "50%     10.250000  \n",
       "75%     14.802500  \n",
       "max     34.410000  "
      ]
     },
     "execution_count": 32,
     "metadata": {},
     "output_type": "execute_result"
    }
   ],
   "source": [
    "housing_tr.describe()"
   ]
  },
  {
   "cell_type": "markdown",
   "id": "43ad8931",
   "metadata": {},
   "source": [
    "## Scikit-learn Design"
   ]
  },
  {
   "cell_type": "code",
   "execution_count": 33,
   "id": "e4e6d42c",
   "metadata": {},
   "outputs": [],
   "source": [
    "# Primarily, three types of objects\n",
    "\n",
    "# Estimators - It estimates some parameter based on a dataset. Eg. imputer. It has a fit method and transform method. \n",
    "# Fit method - Fits the dataset and calculates internal parameters\n",
    "\n",
    "# Transformers - transform method takes input and returns output based on the learnings from fit(). \n",
    "# It also has a convenience function called fit_transform() which fits and then transforms.\n",
    "\n",
    "# Predictors - LinearRegression model is an example of predictor. fit() and predict() are two common functions. \n",
    "# It also gives score() function which will evaluate the predictions."
   ]
  },
  {
   "cell_type": "markdown",
   "id": "9829312a",
   "metadata": {},
   "source": [
    "## Feature Scaling"
   ]
  },
  {
   "cell_type": "code",
   "execution_count": 34,
   "id": "adea67f9",
   "metadata": {},
   "outputs": [],
   "source": [
    "# Primarily, two types of feature scaling methods:\n",
    "\n",
    "# Min-max scaling (Normalization) (value - min)/(max - min) Sklearn provides a class called MinMaxScaler for this\n",
    "\n",
    "# Standardization (value - mean)/std Sklearn provides a class called StandardScaler for this\n",
    "\n",
    "# these are done for every columns of the dataframe or array"
   ]
  },
  {
   "cell_type": "markdown",
   "id": "83c48912",
   "metadata": {},
   "source": [
    "# Creating a Pipeline"
   ]
  },
  {
   "cell_type": "code",
   "execution_count": 35,
   "id": "44a44275",
   "metadata": {},
   "outputs": [],
   "source": [
    "from sklearn.pipeline import Pipeline\n",
    "from sklearn.preprocessing import StandardScaler\n",
    "my_pipeline = Pipeline([\n",
    "   ('imputer', SimpleImputer(strategy=\"median\")),\n",
    "   ('std_scaler', StandardScaler()),\n",
    "]);"
   ]
  },
  {
   "cell_type": "code",
   "execution_count": 36,
   "id": "948ab62f",
   "metadata": {},
   "outputs": [],
   "source": [
    " housing_num_tr = my_pipeline.fit_transform(housing_tr)"
   ]
  },
  {
   "cell_type": "code",
   "execution_count": 37,
   "id": "c575f2f8",
   "metadata": {},
   "outputs": [
    {
     "data": {
      "text/plain": [
       "array([[-0.52616749,  0.20165743, -1.26643756, ...,  3.4651067 ,\n",
       "        -2.43887066,  0.0883653 ],\n",
       "       [-0.26122504, -0.59109555, -0.12842039, ..., -0.24775998,\n",
       "         0.50646744, -0.48240115],\n",
       "       [-0.51153081,  0.94185221, -0.41921594, ..., -0.294103  ,\n",
       "         0.24133855, -0.58588289],\n",
       "       ...,\n",
       "       [-0.51982887,  2.91278504, -0.98542841, ..., -0.29297268,\n",
       "         0.46928425, -0.88339288],\n",
       "       [-0.52616749,  0.20165743, -1.26643756, ...,  0.75652705,\n",
       "        -2.45190067,  0.3147316 ],\n",
       "       [-0.42956373, -0.59109555, -0.06970206, ..., -0.2488903 ,\n",
       "        -2.07426877, -0.13315029]])"
      ]
     },
     "execution_count": 37,
     "metadata": {},
     "output_type": "execute_result"
    }
   ],
   "source": [
    "housing_num_tr"
   ]
  },
  {
   "cell_type": "code",
   "execution_count": 38,
   "id": "b8c53104",
   "metadata": {},
   "outputs": [
    {
     "data": {
      "text/plain": [
       "(404, 13)"
      ]
     },
     "execution_count": 38,
     "metadata": {},
     "output_type": "execute_result"
    }
   ],
   "source": [
    "housing_num_tr.shape"
   ]
  },
  {
   "cell_type": "markdown",
   "id": "61869c40",
   "metadata": {},
   "source": [
    "## Selecting a desired model for Bravo Real Estates"
   ]
  },
  {
   "cell_type": "code",
   "execution_count": 39,
   "id": "b5554afd",
   "metadata": {},
   "outputs": [
    {
     "data": {
      "text/plain": [
       "477     NaN\n",
       "15     19.9\n",
       "332    19.4\n",
       "423    13.4\n",
       "19     18.2\n",
       "       ... \n",
       "106    19.5\n",
       "270    21.1\n",
       "348    24.5\n",
       "435     NaN\n",
       "102    18.6\n",
       "Name: MEDV, Length: 404, dtype: float64"
      ]
     },
     "execution_count": 39,
     "metadata": {},
     "output_type": "execute_result"
    }
   ],
   "source": [
    "from sklearn.linear_model import LinearRegression\n",
    "from sklearn.tree import DecisionTreeRegressor\n",
    "from sklearn.ensemble import RandomForestRegressor\n",
    "# model = LinearRegression();\n",
    "# model = DecisionTreeRegressor();\n",
    "model = RandomForestRegressor();\n",
    "housing_labels"
   ]
  },
  {
   "cell_type": "code",
   "execution_count": 40,
   "id": "2828beeb",
   "metadata": {},
   "outputs": [],
   "source": [
    "median = housing_labels.median()"
   ]
  },
  {
   "cell_type": "code",
   "execution_count": 41,
   "id": "f5975895",
   "metadata": {},
   "outputs": [],
   "source": [
    "house_labels = housing_labels.fillna(median) "
   ]
  },
  {
   "cell_type": "code",
   "execution_count": 42,
   "id": "10063ca9",
   "metadata": {},
   "outputs": [
    {
     "data": {
      "text/plain": [
       "477    22.0\n",
       "15     19.9\n",
       "332    19.4\n",
       "423    13.4\n",
       "19     18.2\n",
       "       ... \n",
       "106    19.5\n",
       "270    21.1\n",
       "348    24.5\n",
       "435    22.0\n",
       "102    18.6\n",
       "Name: MEDV, Length: 404, dtype: float64"
      ]
     },
     "execution_count": 42,
     "metadata": {},
     "output_type": "execute_result"
    }
   ],
   "source": [
    "house_labels"
   ]
  },
  {
   "cell_type": "code",
   "execution_count": 43,
   "id": "5af64ab1",
   "metadata": {},
   "outputs": [
    {
     "data": {
      "text/plain": [
       "RandomForestRegressor()"
      ]
     },
     "execution_count": 43,
     "metadata": {},
     "output_type": "execute_result"
    }
   ],
   "source": [
    "model.fit(housing_num_tr, house_labels)"
   ]
  },
  {
   "cell_type": "code",
   "execution_count": 44,
   "id": "db9ac230",
   "metadata": {},
   "outputs": [],
   "source": [
    "some_data = housing.iloc[:5]"
   ]
  },
  {
   "cell_type": "code",
   "execution_count": 45,
   "id": "bbb3fb7c",
   "metadata": {},
   "outputs": [],
   "source": [
    "some_labels = house_labels[:5]"
   ]
  },
  {
   "cell_type": "code",
   "execution_count": 46,
   "id": "79e0520b",
   "metadata": {},
   "outputs": [],
   "source": [
    "prepared_data = my_pipeline.transform(some_data)"
   ]
  },
  {
   "cell_type": "code",
   "execution_count": 47,
   "id": "10066166",
   "metadata": {},
   "outputs": [
    {
     "data": {
      "text/plain": [
       "array([22.   , 20.073, 19.957, 13.276, 18.996])"
      ]
     },
     "execution_count": 47,
     "metadata": {},
     "output_type": "execute_result"
    }
   ],
   "source": [
    "model.predict(prepared_data)"
   ]
  },
  {
   "cell_type": "code",
   "execution_count": 48,
   "id": "20141ca0",
   "metadata": {},
   "outputs": [
    {
     "data": {
      "text/plain": [
       "[22.0, 19.9, 19.4, 13.4, 18.2]"
      ]
     },
     "execution_count": 48,
     "metadata": {},
     "output_type": "execute_result"
    }
   ],
   "source": [
    "list(some_labels)"
   ]
  },
  {
   "cell_type": "markdown",
   "id": "ba21e59b",
   "metadata": {},
   "source": [
    "## Evaluating the model"
   ]
  },
  {
   "cell_type": "code",
   "execution_count": 49,
   "id": "5871e5be",
   "metadata": {},
   "outputs": [],
   "source": [
    "from sklearn.metrics import mean_squared_error\n",
    "housing_predictions = model.predict(housing_num_tr)\n",
    "mse = mean_squared_error(house_labels, housing_predictions)\n",
    "rmse = np.sqrt(mse)"
   ]
  },
  {
   "cell_type": "code",
   "execution_count": 50,
   "id": "9a34e540",
   "metadata": {},
   "outputs": [
    {
     "data": {
      "text/plain": [
       "1.3448438515859429"
      ]
     },
     "execution_count": 50,
     "metadata": {},
     "output_type": "execute_result"
    }
   ],
   "source": [
    "rmse"
   ]
  },
  {
   "cell_type": "markdown",
   "id": "c103e964",
   "metadata": {},
   "source": [
    "## Using better evaluation technique - Cross validation"
   ]
  },
  {
   "cell_type": "code",
   "execution_count": 51,
   "id": "edd49640",
   "metadata": {},
   "outputs": [],
   "source": [
    "from sklearn.model_selection import cross_val_score\n",
    "scores = cross_val_score(model, housing_num_tr, house_labels, scoring=\"neg_mean_squared_error\", cv=10);\n",
    "rmse_scores = np.sqrt(-scores)"
   ]
  },
  {
   "cell_type": "code",
   "execution_count": 52,
   "id": "ca54b918",
   "metadata": {},
   "outputs": [
    {
     "data": {
      "text/plain": [
       "array([2.9181981 , 3.5357807 , 2.70034927, 4.5850853 , 3.26739747,\n",
       "       2.77303979, 3.43518693, 2.58041295, 2.08732082, 5.58539274])"
      ]
     },
     "execution_count": 52,
     "metadata": {},
     "output_type": "execute_result"
    }
   ],
   "source": [
    "rmse_scores"
   ]
  },
  {
   "cell_type": "code",
   "execution_count": 53,
   "id": "31a9f58f",
   "metadata": {},
   "outputs": [],
   "source": [
    "def print_scores(scores):\n",
    "    print(\"Scores: \", scores);\n",
    "    print(\"Mean: \", scores.mean());\n",
    "    print(\"Standard deviation: \", scores.std())"
   ]
  },
  {
   "cell_type": "code",
   "execution_count": 54,
   "id": "73d63ce6",
   "metadata": {},
   "outputs": [
    {
     "name": "stdout",
     "output_type": "stream",
     "text": [
      "Scores:  [2.9181981  3.5357807  2.70034927 4.5850853  3.26739747 2.77303979\n",
      " 3.43518693 2.58041295 2.08732082 5.58539274]\n",
      "Mean:  3.346816406943129\n",
      "Standard deviation:  0.9848306689832231\n"
     ]
    }
   ],
   "source": [
    "print_scores(rmse_scores)"
   ]
  },
  {
   "cell_type": "markdown",
   "id": "36a64c01",
   "metadata": {},
   "source": [
    "## Saving the model"
   ]
  },
  {
   "cell_type": "code",
   "execution_count": 57,
   "id": "da4acfa1",
   "metadata": {},
   "outputs": [
    {
     "data": {
      "text/plain": [
       "['Bravo.joblib']"
      ]
     },
     "execution_count": 57,
     "metadata": {},
     "output_type": "execute_result"
    }
   ],
   "source": [
    "from joblib import dump, load\n",
    "dump(model, 'Bravo.joblib')"
   ]
  },
  {
   "cell_type": "markdown",
   "id": "33e1c9e8",
   "metadata": {},
   "source": [
    "## Testing the model using test data"
   ]
  },
  {
   "cell_type": "code",
   "execution_count": 63,
   "id": "43dadcde",
   "metadata": {},
   "outputs": [
    {
     "name": "stdout",
     "output_type": "stream",
     "text": [
      "[24.2   31.59  17.158 23.393 16.906 21.216 19.219 15.684 20.431 20.122\n",
      " 20.795 19.752 22.031 21.49  19.143 23.225 19.429 22.    44.457 15.733\n",
      " 24.766 24.464 14.4   24.744 15.012 14.693 21.275 13.866 19.477 20.919\n",
      " 20.338 23.203 21.931 20.087 14.298 15.914 35.425 19.329 21.297 24.249\n",
      " 19.264 28.79  44.085 19.173 23.438 14.15  15.101 24.419 18.729 28.014\n",
      " 21.267 33.981 16.525 26.195 47.088 21.982 15.642 34.336 22.769 20.151\n",
      " 25.114 33.758 30.23  18.732 26.558 17.185 14.166 23.181 29.138 15.915\n",
      " 20.632 25.533 22.    21.303 22.065 26.976 20.113 44.529 22.    13.4\n",
      " 21.38  11.208 20.173 22.011 20.12  26.141 15.936 23.319 23.905 18.57\n",
      " 22.188 22.    19.383 18.859 22.043 19.793 34.878 21.993 22.011 21.993\n",
      " 20.569 24.176] [23.6, 32.4, 13.6, 22.8, 16.1, 20.0, 17.8, 14.0, 19.6, 16.8, 21.5, 18.9, 22.0, 21.2, 18.5, 29.8, 18.8, 22.0, 50.0, 14.1, 25.2, 29.1, 12.7, 22.4, 14.2, 13.8, 20.3, 14.9, 21.7, 18.3, 23.1, 23.8, 22.0, 20.8, 19.1, 19.4, 34.7, 19.5, 24.4, 23.4, 19.7, 28.2, 50.0, 17.4, 22.6, 15.1, 13.1, 24.2, 19.9, 24.0, 18.9, 35.4, 15.2, 26.5, 43.5, 21.2, 18.4, 28.5, 23.9, 18.5, 25.0, 35.4, 31.5, 20.2, 24.1, 20.0, 13.1, 24.8, 30.8, 12.7, 20.0, 23.7, 22.0, 20.6, 20.8, 22.0, 20.1, 48.5, 22.0, 7.0, 20.9, 17.2, 20.9, 22.0, 19.4, 29.0, 16.4, 25.0, 25.0, 17.1, 23.2, 22.0, 19.6, 17.2, 27.5, 23.0, 50.0, 22.0, 22.0, 22.0, 22.5, 21.4]\n"
     ]
    }
   ],
   "source": [
    "X_test = test_set.drop('MEDV', axis=1);\n",
    "Y_test = test_set['MEDV'].copy();\n",
    "Y = Y_test.fillna(median);\n",
    "X_test_prepared = my_pipeline.transform(X_test);\n",
    "final_predictions = model.predict(X_test_prepared);\n",
    "final_mse = mean_squared_error(Y, final_predictions);\n",
    "final_rmse = np.sqrt(final_mse);\n",
    "print(final_predictions, list(Y));"
   ]
  },
  {
   "cell_type": "code",
   "execution_count": 61,
   "id": "d2e0f1a7",
   "metadata": {},
   "outputs": [
    {
     "data": {
      "text/plain": [
       "2.8045001039995214"
      ]
     },
     "execution_count": 61,
     "metadata": {},
     "output_type": "execute_result"
    }
   ],
   "source": [
    "final_rmse"
   ]
  },
  {
   "cell_type": "code",
   "execution_count": 64,
   "id": "65578c98",
   "metadata": {},
   "outputs": [
    {
     "data": {
      "text/plain": [
       "array([[-0.52616749,  0.20165743, -1.26643756,  1.49589937,  2.54685484,\n",
       "         3.03884539, -1.71993701,  2.75534015,  2.89578549, -1.78397068,\n",
       "         3.4651067 , -2.43887066,  0.0883653 ],\n",
       "       [-0.26122504, -0.59109555, -0.12842039, -0.45390261, -0.34348065,\n",
       "        -0.36250854, -0.07139033, -0.25962861, -0.36270725, -0.16020292,\n",
       "        -0.24775998,  0.50646744, -0.48240115],\n",
       "       [-0.51153081,  0.94185221, -0.41921594, -0.45390261, -0.40418619,\n",
       "        -0.35518269, -1.07750162,  0.0715458 , -0.37747383, -0.17718794,\n",
       "        -0.294103  ,  0.24133855, -0.58588289],\n",
       "       [ 2.45117597, -0.59109555,  1.26404287, -0.45390261, -0.29739054,\n",
       "        -0.35250522,  0.79532   , -0.64254853, -0.26426336,  1.87233762,\n",
       "        -0.25680252, -2.61676206,  1.9138478 ],\n",
       "       [-0.21966718, -0.59109555, -0.12842039, -0.45390261, -0.34348065,\n",
       "        -0.36648756,  0.32256891, -0.36817515, -0.36270725, -0.16020292,\n",
       "        -0.24775998,  0.4693637 , -0.02805165]])"
      ]
     },
     "execution_count": 64,
     "metadata": {},
     "output_type": "execute_result"
    }
   ],
   "source": [
    "prepared_data"
   ]
  },
  {
   "cell_type": "code",
   "execution_count": null,
   "id": "307c54ac",
   "metadata": {},
   "outputs": [],
   "source": []
  }
 ],
 "metadata": {
  "kernelspec": {
   "display_name": "Python 3 (ipykernel)",
   "language": "python",
   "name": "python3"
  },
  "language_info": {
   "codemirror_mode": {
    "name": "ipython",
    "version": 3
   },
   "file_extension": ".py",
   "mimetype": "text/x-python",
   "name": "python",
   "nbconvert_exporter": "python",
   "pygments_lexer": "ipython3",
   "version": "3.9.1"
  }
 },
 "nbformat": 4,
 "nbformat_minor": 5
}
